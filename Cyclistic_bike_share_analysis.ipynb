{
 "cells": [
  {
   "cell_type": "markdown",
   "id": "016424bc-0758-4a00-8001-b144a1533132",
   "metadata": {},
   "source": [
    "# Google Data Analytics Cyclistic Capstone"
   ]
  },
  {
   "cell_type": "code",
   "execution_count": 5,
   "id": "526f26c5-68c8-4fb1-8bef-143bc52026fb",
   "metadata": {},
   "outputs": [],
   "source": [
    "import pandas as pd\n",
    "import matplotlib.pyplot as plt\n",
    "import seaborn as sns\n",
    "\n",
    "#Load the dataset\n",
    "data = pd.read_csv('C:/Users/JAMMITHRI/OneDrive/Documents/merged_file.csv')"
   ]
  },
  {
   "cell_type": "code",
   "execution_count": 6,
   "id": "1f885fc2-33e7-4f34-885d-b5aa30ab16b7",
   "metadata": {},
   "outputs": [
    {
     "name": "stdout",
     "output_type": "stream",
     "text": [
      "First few rows of the dataset:\n",
      "            ride_id rideable_type        started_at          ended_at  \\\n",
      "0  A847FADBBC638E45   docked_bike  26-04-2020 17:45  26-04-2020 18:12   \n",
      "1  5405B80E996FF60D   docked_bike  17-04-2020 17:08  17-04-2020 17:17   \n",
      "2  5DD24A79A4E006F4   docked_bike  01-04-2020 17:54  01-04-2020 18:08   \n",
      "3  2A59BBDF5CDBA725   docked_bike  07-04-2020 12:50  07-04-2020 13:02   \n",
      "4  27AD306C119C6158   docked_bike  18-04-2020 10:22  18-04-2020 11:15   \n",
      "\n",
      "             start_station_name  start_station_id  \\\n",
      "0                  Eckhart Park              86.0   \n",
      "1     Drake Ave & Fullerton Ave             503.0   \n",
      "2          McClurg Ct & Erie St             142.0   \n",
      "3  California Ave & Division St             216.0   \n",
      "4          Rush St & Hubbard St             125.0   \n",
      "\n",
      "              end_station_name  end_station_id  start_lat  start_lng  end_lat  \\\n",
      "0  Lincoln Ave & Diversey Pkwy           152.0    41.8964   -87.6610  41.9322   \n",
      "1              Kosciuszko Park           499.0    41.9244   -87.7154  41.9306   \n",
      "2   Indiana Ave & Roosevelt Rd           255.0    41.8945   -87.6179  41.8679   \n",
      "3       Wood St & Augusta Blvd           657.0    41.9030   -87.6975  41.8992   \n",
      "4   Sheridan Rd & Lawrence Ave           323.0    41.8902   -87.6262  41.9695   \n",
      "\n",
      "   end_lng member_casual  \n",
      "0 -87.6586        member  \n",
      "1 -87.7238        member  \n",
      "2 -87.6230        member  \n",
      "3 -87.6722        member  \n",
      "4 -87.6547        casual  \n"
     ]
    }
   ],
   "source": [
    "print(\"First few rows of the dataset:\")\n",
    "print(data.head())"
   ]
  },
  {
   "cell_type": "code",
   "execution_count": 9,
   "id": "d0212135-3d16-4e1b-a141-b960d00bbec1",
   "metadata": {},
   "outputs": [],
   "source": [
    "import pandas as pd\n",
    "\n",
    "# Convert 'started_at' and 'ended_at' columns to datetime objects with the specified format\n",
    "data['started_at'] = pd.to_datetime(data['started_at'], format='%y-%m-%d %H:%M')\n",
    "data['ended_at'] = pd.to_datetime(data['ended_at'], format='%y-%m-%d %H:%M')\n",
    "\n",
    "# Calculate the time taken between 'started_at' and 'ended_at' in minutes\n",
    "data['ride_duration'] = (data['ended_at'] - data['started_at']).dt.total_seconds() / 60\n"
   ]
  },
  {
   "cell_type": "code",
   "execution_count": 10,
   "id": "03e4a8db-cd77-41c0-874a-2b217cb85d8c",
   "metadata": {},
   "outputs": [
    {
     "name": "stdout",
     "output_type": "stream",
     "text": [
      "First few rows of the dataset:\n",
      "            ride_id rideable_type          started_at            ended_at  \\\n",
      "0  A847FADBBC638E45   docked_bike 2020-04-26 17:45:00 2020-04-26 18:12:00   \n",
      "1  5405B80E996FF60D   docked_bike 2020-04-17 17:08:00 2020-04-17 17:17:00   \n",
      "2  5DD24A79A4E006F4   docked_bike 2020-04-01 17:54:00 2020-04-01 18:08:00   \n",
      "3  2A59BBDF5CDBA725   docked_bike 2020-04-07 12:50:00 2020-04-07 13:02:00   \n",
      "4  27AD306C119C6158   docked_bike 2020-04-18 10:22:00 2020-04-18 11:15:00   \n",
      "\n",
      "             start_station_name  start_station_id  \\\n",
      "0                  Eckhart Park              86.0   \n",
      "1     Drake Ave & Fullerton Ave             503.0   \n",
      "2          McClurg Ct & Erie St             142.0   \n",
      "3  California Ave & Division St             216.0   \n",
      "4          Rush St & Hubbard St             125.0   \n",
      "\n",
      "              end_station_name  end_station_id  start_lat  start_lng  end_lat  \\\n",
      "0  Lincoln Ave & Diversey Pkwy           152.0    41.8964   -87.6610  41.9322   \n",
      "1              Kosciuszko Park           499.0    41.9244   -87.7154  41.9306   \n",
      "2   Indiana Ave & Roosevelt Rd           255.0    41.8945   -87.6179  41.8679   \n",
      "3       Wood St & Augusta Blvd           657.0    41.9030   -87.6975  41.8992   \n",
      "4   Sheridan Rd & Lawrence Ave           323.0    41.8902   -87.6262  41.9695   \n",
      "\n",
      "   end_lng member_casual  ride_duration  \n",
      "0 -87.6586        member           27.0  \n",
      "1 -87.7238        member            9.0  \n",
      "2 -87.6230        member           14.0  \n",
      "3 -87.6722        member           12.0  \n",
      "4 -87.6547        casual           53.0  \n"
     ]
    }
   ],
   "source": [
    "print(\"First few rows of the dataset:\")\n",
    "print(data.head())"
   ]
  },
  {
   "cell_type": "code",
   "execution_count": 11,
   "id": "286824b7-2c6a-4b16-be92-86319c321934",
   "metadata": {},
   "outputs": [
    {
     "name": "stdout",
     "output_type": "stream",
     "text": [
      "Shape of the dataset (rows, columns): (1048575, 14)\n"
     ]
    }
   ],
   "source": [
    "#Dataset shape (number of rows and columns)\n",
    "print(\"Shape of the dataset (rows, columns):\", data.shape)"
   ]
  },
  {
   "cell_type": "code",
   "execution_count": 12,
   "id": "8994cad6-4639-432b-be0c-8fbefeeb8f1d",
   "metadata": {},
   "outputs": [
    {
     "name": "stdout",
     "output_type": "stream",
     "text": [
      "\n",
      "Information about the dataset:\n",
      "<class 'pandas.core.frame.DataFrame'>\n",
      "RangeIndex: 1048575 entries, 0 to 1048574\n",
      "Data columns (total 14 columns):\n",
      " #   Column              Non-Null Count    Dtype         \n",
      "---  ------              --------------    -----         \n",
      " 0   ride_id             1048575 non-null  object        \n",
      " 1   rideable_type       1048575 non-null  object        \n",
      " 2   started_at          1048575 non-null  datetime64[ns]\n",
      " 3   ended_at            1048575 non-null  datetime64[ns]\n",
      " 4   start_station_name  1048444 non-null  object        \n",
      " 5   start_station_id    1048441 non-null  float64       \n",
      " 6   end_station_name    1046953 non-null  object        \n",
      " 7   end_station_id      1046951 non-null  float64       \n",
      " 8   start_lat           1048575 non-null  float64       \n",
      " 9   start_lng           1048575 non-null  float64       \n",
      " 10  end_lat             1047122 non-null  float64       \n",
      " 11  end_lng             1047122 non-null  float64       \n",
      " 12  member_casual       1048575 non-null  object        \n",
      " 13  ride_duration       1048575 non-null  float64       \n",
      "dtypes: datetime64[ns](2), float64(7), object(5)\n",
      "memory usage: 112.0+ MB\n",
      "None\n"
     ]
    }
   ],
   "source": [
    "print(\"\\nInformation about the dataset:\")\n",
    "print(data.info())"
   ]
  },
  {
   "cell_type": "code",
   "execution_count": 13,
   "id": "75334d6d-8269-4215-ba6c-226134725f8d",
   "metadata": {},
   "outputs": [
    {
     "name": "stdout",
     "output_type": "stream",
     "text": [
      "\n",
      "Missing values:\n",
      "ride_id                  0\n",
      "rideable_type            0\n",
      "started_at               0\n",
      "ended_at                 0\n",
      "start_station_name     131\n",
      "start_station_id       134\n",
      "end_station_name      1622\n",
      "end_station_id        1624\n",
      "start_lat                0\n",
      "start_lng                0\n",
      "end_lat               1453\n",
      "end_lng               1453\n",
      "member_casual            0\n",
      "ride_duration            0\n",
      "dtype: int64\n"
     ]
    }
   ],
   "source": [
    "print(\"\\nMissing values:\")\n",
    "print(data.isnull().sum())"
   ]
  },
  {
   "cell_type": "code",
   "execution_count": 14,
   "id": "9f549da0-8aba-495b-b5bd-b433d765829b",
   "metadata": {},
   "outputs": [
    {
     "name": "stdout",
     "output_type": "stream",
     "text": [
      "Total number of rows with null values: 1700\n"
     ]
    }
   ],
   "source": [
    "#Count the number of null values in each row\n",
    "null_rows = data.isnull().sum(axis=1)\n",
    "\n",
    "#Total no of rows with null values\n",
    "total_rows_with_null = null_rows[null_rows > 0].count()\n",
    "\n",
    "print(\"Total number of rows with null values:\", total_rows_with_null)"
   ]
  },
  {
   "cell_type": "code",
   "execution_count": 15,
   "id": "75d7f664-d26a-40b7-953a-46d5f62b0809",
   "metadata": {},
   "outputs": [
    {
     "name": "stdout",
     "output_type": "stream",
     "text": [
      "1700\n",
      "1048575\n",
      "percentage of null rows: 0.16212478840330924\n"
     ]
    }
   ],
   "source": [
    "#Total number of rows with null values\n",
    "total_rows_with_null = null_rows[null_rows > 0].count()\n",
    "print(total_rows_with_null)\n",
    "\n",
    "#Total no of rows in the dataset\n",
    "total_rows = len(data)\n",
    "print(total_rows)\n",
    "\n",
    "#calculate the percentage of null rows\n",
    "percentage_null_rows = (total_rows_with_null / total_rows) * 100\n",
    "\n",
    "print(\"percentage of null rows:\", percentage_null_rows)"
   ]
  },
  {
   "cell_type": "code",
   "execution_count": 16,
   "id": "dea00e69-4038-4033-9276-15e67f32a0ea",
   "metadata": {},
   "outputs": [
    {
     "name": "stdout",
     "output_type": "stream",
     "text": [
      "shape of the cleaned dataset (rows, columns): (1046875, 14)\n"
     ]
    }
   ],
   "source": [
    "#Remove rows with the null values\n",
    "cleaned_data = data.dropna()\n",
    "\n",
    "print(\"shape of the cleaned dataset (rows, columns):\", cleaned_data.shape)"
   ]
  },
  {
   "cell_type": "code",
   "execution_count": 17,
   "id": "c3b44856-3a7d-4b32-a7e4-2dd4e0a1959c",
   "metadata": {},
   "outputs": [
    {
     "name": "stdout",
     "output_type": "stream",
     "text": [
      "First few rows of the cleaned dataset:\n",
      "            ride_id rideable_type          started_at            ended_at  \\\n",
      "0  A847FADBBC638E45   docked_bike 2020-04-26 17:45:00 2020-04-26 18:12:00   \n",
      "1  5405B80E996FF60D   docked_bike 2020-04-17 17:08:00 2020-04-17 17:17:00   \n",
      "2  5DD24A79A4E006F4   docked_bike 2020-04-01 17:54:00 2020-04-01 18:08:00   \n",
      "3  2A59BBDF5CDBA725   docked_bike 2020-04-07 12:50:00 2020-04-07 13:02:00   \n",
      "4  27AD306C119C6158   docked_bike 2020-04-18 10:22:00 2020-04-18 11:15:00   \n",
      "\n",
      "             start_station_name  start_station_id  \\\n",
      "0                  Eckhart Park              86.0   \n",
      "1     Drake Ave & Fullerton Ave             503.0   \n",
      "2          McClurg Ct & Erie St             142.0   \n",
      "3  California Ave & Division St             216.0   \n",
      "4          Rush St & Hubbard St             125.0   \n",
      "\n",
      "              end_station_name  end_station_id  start_lat  start_lng  end_lat  \\\n",
      "0  Lincoln Ave & Diversey Pkwy           152.0    41.8964   -87.6610  41.9322   \n",
      "1              Kosciuszko Park           499.0    41.9244   -87.7154  41.9306   \n",
      "2   Indiana Ave & Roosevelt Rd           255.0    41.8945   -87.6179  41.8679   \n",
      "3       Wood St & Augusta Blvd           657.0    41.9030   -87.6975  41.8992   \n",
      "4   Sheridan Rd & Lawrence Ave           323.0    41.8902   -87.6262  41.9695   \n",
      "\n",
      "   end_lng member_casual  ride_duration  \n",
      "0 -87.6586        member           27.0  \n",
      "1 -87.7238        member            9.0  \n",
      "2 -87.6230        member           14.0  \n",
      "3 -87.6722        member           12.0  \n",
      "4 -87.6547        casual           53.0  \n"
     ]
    }
   ],
   "source": [
    "print(\"First few rows of the cleaned dataset:\")\n",
    "print(cleaned_data.head())"
   ]
  },
  {
   "cell_type": "code",
   "execution_count": 18,
   "id": "95386958-ce31-4965-bb7d-43959cc47f27",
   "metadata": {},
   "outputs": [
    {
     "name": "stdout",
     "output_type": "stream",
     "text": [
      "\n",
      "Missing values:\n",
      "ride_id               0\n",
      "rideable_type         0\n",
      "started_at            0\n",
      "ended_at              0\n",
      "start_station_name    0\n",
      "start_station_id      0\n",
      "end_station_name      0\n",
      "end_station_id        0\n",
      "start_lat             0\n",
      "start_lng             0\n",
      "end_lat               0\n",
      "end_lng               0\n",
      "member_casual         0\n",
      "ride_duration         0\n",
      "dtype: int64\n"
     ]
    }
   ],
   "source": [
    "print(\"\\nMissing values:\")\n",
    "print(cleaned_data.isnull().sum())"
   ]
  },
  {
   "cell_type": "code",
   "execution_count": 19,
   "id": "6a1d522b-aa26-49dd-9331-cc04317563a9",
   "metadata": {},
   "outputs": [
    {
     "name": "stdout",
     "output_type": "stream",
     "text": [
      "\n",
      "Information about the dataset:\n",
      "<class 'pandas.core.frame.DataFrame'>\n",
      "Index: 1046875 entries, 0 to 1048574\n",
      "Data columns (total 14 columns):\n",
      " #   Column              Non-Null Count    Dtype         \n",
      "---  ------              --------------    -----         \n",
      " 0   ride_id             1046875 non-null  object        \n",
      " 1   rideable_type       1046875 non-null  object        \n",
      " 2   started_at          1046875 non-null  datetime64[ns]\n",
      " 3   ended_at            1046875 non-null  datetime64[ns]\n",
      " 4   start_station_name  1046875 non-null  object        \n",
      " 5   start_station_id    1046875 non-null  float64       \n",
      " 6   end_station_name    1046875 non-null  object        \n",
      " 7   end_station_id      1046875 non-null  float64       \n",
      " 8   start_lat           1046875 non-null  float64       \n",
      " 9   start_lng           1046875 non-null  float64       \n",
      " 10  end_lat             1046875 non-null  float64       \n",
      " 11  end_lng             1046875 non-null  float64       \n",
      " 12  member_casual       1046875 non-null  object        \n",
      " 13  ride_duration       1046875 non-null  float64       \n",
      "dtypes: datetime64[ns](2), float64(7), object(5)\n",
      "memory usage: 119.8+ MB\n",
      "None\n"
     ]
    }
   ],
   "source": [
    "print(\"\\nInformation about the dataset:\")\n",
    "print(cleaned_data.info())"
   ]
  },
  {
   "cell_type": "code",
   "execution_count": 22,
   "id": "d2dede3b-88be-4b4d-85fd-358caf05ace4",
   "metadata": {},
   "outputs": [
    {
     "name": "stdout",
     "output_type": "stream",
     "text": [
      "First few rows of the dataset with the new column 'day_of_week':\n",
      "            ride_id rideable_type          started_at            ended_at  \\\n",
      "0  A847FADBBC638E45   docked_bike 2020-04-26 17:45:00 2020-04-26 18:12:00   \n",
      "1  5405B80E996FF60D   docked_bike 2020-04-17 17:08:00 2020-04-17 17:17:00   \n",
      "2  5DD24A79A4E006F4   docked_bike 2020-04-01 17:54:00 2020-04-01 18:08:00   \n",
      "3  2A59BBDF5CDBA725   docked_bike 2020-04-07 12:50:00 2020-04-07 13:02:00   \n",
      "4  27AD306C119C6158   docked_bike 2020-04-18 10:22:00 2020-04-18 11:15:00   \n",
      "\n",
      "             start_station_name  start_station_id  \\\n",
      "0                  Eckhart Park              86.0   \n",
      "1     Drake Ave & Fullerton Ave             503.0   \n",
      "2          McClurg Ct & Erie St             142.0   \n",
      "3  California Ave & Division St             216.0   \n",
      "4          Rush St & Hubbard St             125.0   \n",
      "\n",
      "              end_station_name  end_station_id  start_lat  start_lng  end_lat  \\\n",
      "0  Lincoln Ave & Diversey Pkwy           152.0    41.8964   -87.6610  41.9322   \n",
      "1              Kosciuszko Park           499.0    41.9244   -87.7154  41.9306   \n",
      "2   Indiana Ave & Roosevelt Rd           255.0    41.8945   -87.6179  41.8679   \n",
      "3       Wood St & Augusta Blvd           657.0    41.9030   -87.6975  41.8992   \n",
      "4   Sheridan Rd & Lawrence Ave           323.0    41.8902   -87.6262  41.9695   \n",
      "\n",
      "   end_lng member_casual  ride_duration  day_of_week  \n",
      "0 -87.6586        member           27.0            6  \n",
      "1 -87.7238        member            9.0            4  \n",
      "2 -87.6230        member           14.0            2  \n",
      "3 -87.6722        member           12.0            1  \n",
      "4 -87.6547        casual           53.0            5  \n"
     ]
    },
    {
     "name": "stderr",
     "output_type": "stream",
     "text": [
      "C:\\Users\\JAMMITHRI\\AppData\\Local\\Temp\\ipykernel_30004\\3756622054.py:1: SettingWithCopyWarning: \n",
      "A value is trying to be set on a copy of a slice from a DataFrame.\n",
      "Try using .loc[row_indexer,col_indexer] = value instead\n",
      "\n",
      "See the caveats in the documentation: https://pandas.pydata.org/pandas-docs/stable/user_guide/indexing.html#returning-a-view-versus-a-copy\n",
      "  cleaned_data['day_of_week'] = cleaned_data['started_at'].dt.dayofweek\n"
     ]
    }
   ],
   "source": [
    "cleaned_data['day_of_week'] = cleaned_data['started_at'].dt.dayofweek\n",
    "\n",
    "# Display the first few rows of the dataset with the new column\n",
    "print(\"First few rows of the dataset with the new column 'day_of_week':\")\n",
    "print(cleaned_data.head())"
   ]
  },
  {
   "cell_type": "code",
   "execution_count": 23,
   "id": "58f0818b-18c9-4a34-bdf1-2ff352156cf0",
   "metadata": {},
   "outputs": [
    {
     "name": "stdout",
     "output_type": "stream",
     "text": [
      "First few rows of the dataset with the new column 'weekday_name':\n",
      "            ride_id rideable_type          started_at            ended_at  \\\n",
      "0  A847FADBBC638E45   docked_bike 2020-04-26 17:45:00 2020-04-26 18:12:00   \n",
      "1  5405B80E996FF60D   docked_bike 2020-04-17 17:08:00 2020-04-17 17:17:00   \n",
      "2  5DD24A79A4E006F4   docked_bike 2020-04-01 17:54:00 2020-04-01 18:08:00   \n",
      "3  2A59BBDF5CDBA725   docked_bike 2020-04-07 12:50:00 2020-04-07 13:02:00   \n",
      "4  27AD306C119C6158   docked_bike 2020-04-18 10:22:00 2020-04-18 11:15:00   \n",
      "\n",
      "             start_station_name  start_station_id  \\\n",
      "0                  Eckhart Park              86.0   \n",
      "1     Drake Ave & Fullerton Ave             503.0   \n",
      "2          McClurg Ct & Erie St             142.0   \n",
      "3  California Ave & Division St             216.0   \n",
      "4          Rush St & Hubbard St             125.0   \n",
      "\n",
      "              end_station_name  end_station_id  start_lat  start_lng  end_lat  \\\n",
      "0  Lincoln Ave & Diversey Pkwy           152.0    41.8964   -87.6610  41.9322   \n",
      "1              Kosciuszko Park           499.0    41.9244   -87.7154  41.9306   \n",
      "2   Indiana Ave & Roosevelt Rd           255.0    41.8945   -87.6179  41.8679   \n",
      "3       Wood St & Augusta Blvd           657.0    41.9030   -87.6975  41.8992   \n",
      "4   Sheridan Rd & Lawrence Ave           323.0    41.8902   -87.6262  41.9695   \n",
      "\n",
      "   end_lng member_casual  ride_duration  day_of_week weekday_name  \n",
      "0 -87.6586        member           27.0            6       Sunday  \n",
      "1 -87.7238        member            9.0            4       Friday  \n",
      "2 -87.6230        member           14.0            2    Wednesday  \n",
      "3 -87.6722        member           12.0            1      Tuesday  \n",
      "4 -87.6547        casual           53.0            5     Saturday  \n"
     ]
    },
    {
     "name": "stderr",
     "output_type": "stream",
     "text": [
      "C:\\Users\\JAMMITHRI\\AppData\\Local\\Temp\\ipykernel_30004\\4246576257.py:10: SettingWithCopyWarning: \n",
      "A value is trying to be set on a copy of a slice from a DataFrame.\n",
      "Try using .loc[row_indexer,col_indexer] = value instead\n",
      "\n",
      "See the caveats in the documentation: https://pandas.pydata.org/pandas-docs/stable/user_guide/indexing.html#returning-a-view-versus-a-copy\n",
      "  cleaned_data['weekday_name'] = cleaned_data['day_of_week'].map(weekday_names)\n"
     ]
    }
   ],
   "source": [
    "weekday_names = {\n",
    "    0: 'Monday',\n",
    "    1: 'Tuesday',\n",
    "    2: 'Wednesday',\n",
    "    3: 'Thursday',\n",
    "    4: 'Friday',\n",
    "    5: 'Saturday',\n",
    "    6: 'Sunday'\n",
    "}\n",
    "cleaned_data['weekday_name'] = cleaned_data['day_of_week'].map(weekday_names)\n",
    "\n",
    "print(\"First few rows of the dataset with the new column 'weekday_name':\")\n",
    "print(cleaned_data.head())"
   ]
  },
  {
   "cell_type": "code",
   "execution_count": 24,
   "id": "83f599f3-4eb7-4db8-9cec-80c78375b477",
   "metadata": {},
   "outputs": [
    {
     "name": "stdout",
     "output_type": "stream",
     "text": [
      "First few rows of the dataset with the new column 'month_name':\n",
      "            ride_id rideable_type          started_at            ended_at  \\\n",
      "0  A847FADBBC638E45   docked_bike 2020-04-26 17:45:00 2020-04-26 18:12:00   \n",
      "1  5405B80E996FF60D   docked_bike 2020-04-17 17:08:00 2020-04-17 17:17:00   \n",
      "2  5DD24A79A4E006F4   docked_bike 2020-04-01 17:54:00 2020-04-01 18:08:00   \n",
      "3  2A59BBDF5CDBA725   docked_bike 2020-04-07 12:50:00 2020-04-07 13:02:00   \n",
      "4  27AD306C119C6158   docked_bike 2020-04-18 10:22:00 2020-04-18 11:15:00   \n",
      "\n",
      "             start_station_name  start_station_id  \\\n",
      "0                  Eckhart Park              86.0   \n",
      "1     Drake Ave & Fullerton Ave             503.0   \n",
      "2          McClurg Ct & Erie St             142.0   \n",
      "3  California Ave & Division St             216.0   \n",
      "4          Rush St & Hubbard St             125.0   \n",
      "\n",
      "              end_station_name  end_station_id  start_lat  start_lng  end_lat  \\\n",
      "0  Lincoln Ave & Diversey Pkwy           152.0    41.8964   -87.6610  41.9322   \n",
      "1              Kosciuszko Park           499.0    41.9244   -87.7154  41.9306   \n",
      "2   Indiana Ave & Roosevelt Rd           255.0    41.8945   -87.6179  41.8679   \n",
      "3       Wood St & Augusta Blvd           657.0    41.9030   -87.6975  41.8992   \n",
      "4   Sheridan Rd & Lawrence Ave           323.0    41.8902   -87.6262  41.9695   \n",
      "\n",
      "   end_lng member_casual  ride_duration  day_of_week weekday_name  month  \\\n",
      "0 -87.6586        member           27.0            6       Sunday      4   \n",
      "1 -87.7238        member            9.0            4       Friday      4   \n",
      "2 -87.6230        member           14.0            2    Wednesday      4   \n",
      "3 -87.6722        member           12.0            1      Tuesday      4   \n",
      "4 -87.6547        casual           53.0            5     Saturday      4   \n",
      "\n",
      "  month_name  \n",
      "0      April  \n",
      "1      April  \n",
      "2      April  \n",
      "3      April  \n",
      "4      April  \n"
     ]
    },
    {
     "name": "stderr",
     "output_type": "stream",
     "text": [
      "C:\\Users\\JAMMITHRI\\AppData\\Local\\Temp\\ipykernel_30004\\2706178739.py:1: SettingWithCopyWarning: \n",
      "A value is trying to be set on a copy of a slice from a DataFrame.\n",
      "Try using .loc[row_indexer,col_indexer] = value instead\n",
      "\n",
      "See the caveats in the documentation: https://pandas.pydata.org/pandas-docs/stable/user_guide/indexing.html#returning-a-view-versus-a-copy\n",
      "  cleaned_data['month'] = cleaned_data['started_at'].dt.month\n",
      "C:\\Users\\JAMMITHRI\\AppData\\Local\\Temp\\ipykernel_30004\\2706178739.py:17: SettingWithCopyWarning: \n",
      "A value is trying to be set on a copy of a slice from a DataFrame.\n",
      "Try using .loc[row_indexer,col_indexer] = value instead\n",
      "\n",
      "See the caveats in the documentation: https://pandas.pydata.org/pandas-docs/stable/user_guide/indexing.html#returning-a-view-versus-a-copy\n",
      "  cleaned_data['month_name'] = cleaned_data['month'].map(month_names)\n"
     ]
    }
   ],
   "source": [
    "cleaned_data['month'] = cleaned_data['started_at'].dt.month\n",
    "\n",
    "month_names = {\n",
    "    1: 'January',\n",
    "    2: 'February',\n",
    "    3: 'March',\n",
    "    4: 'April',\n",
    "    5: 'May',\n",
    "    6: 'June',\n",
    "    7: 'July',\n",
    "    8: 'August',\n",
    "    9: 'September',\n",
    "    10: 'October',\n",
    "    11: 'November',\n",
    "    12: 'December'\n",
    "}\n",
    "cleaned_data['month_name'] = cleaned_data['month'].map(month_names)\n",
    "print(\"First few rows of the dataset with the new column 'month_name':\")\n",
    "print(cleaned_data.head())"
   ]
  },
  {
   "cell_type": "code",
   "execution_count": 25,
   "id": "c1db0352-e764-4c01-b322-16cd5fb81283",
   "metadata": {},
   "outputs": [
    {
     "name": "stdout",
     "output_type": "stream",
     "text": [
      "<class 'pandas.core.frame.DataFrame'>\n",
      "Index: 1046875 entries, 0 to 1048574\n",
      "Data columns (total 18 columns):\n",
      " #   Column              Non-Null Count    Dtype         \n",
      "---  ------              --------------    -----         \n",
      " 0   ride_id             1046875 non-null  object        \n",
      " 1   rideable_type       1046875 non-null  object        \n",
      " 2   started_at          1046875 non-null  datetime64[ns]\n",
      " 3   ended_at            1046875 non-null  datetime64[ns]\n",
      " 4   start_station_name  1046875 non-null  object        \n",
      " 5   start_station_id    1046875 non-null  float64       \n",
      " 6   end_station_name    1046875 non-null  object        \n",
      " 7   end_station_id      1046875 non-null  float64       \n",
      " 8   start_lat           1046875 non-null  float64       \n",
      " 9   start_lng           1046875 non-null  float64       \n",
      " 10  end_lat             1046875 non-null  float64       \n",
      " 11  end_lng             1046875 non-null  float64       \n",
      " 12  member_casual       1046875 non-null  object        \n",
      " 13  ride_duration       1046875 non-null  float64       \n",
      " 14  day_of_week         1046875 non-null  int32         \n",
      " 15  weekday_name        1046875 non-null  object        \n",
      " 16  month               1046875 non-null  int32         \n",
      " 17  month_name          1046875 non-null  object        \n",
      "dtypes: datetime64[ns](2), float64(7), int32(2), object(7)\n",
      "memory usage: 143.8+ MB\n",
      "None\n"
     ]
    }
   ],
   "source": [
    "print(cleaned_data.info())"
   ]
  },
  {
   "cell_type": "code",
   "execution_count": 26,
   "id": "522b64e9-dae6-487f-98f4-47713ece968e",
   "metadata": {},
   "outputs": [
    {
     "name": "stdout",
     "output_type": "stream",
     "text": [
      "            ride_id rideable_type          started_at            ended_at  \\\n",
      "0  A847FADBBC638E45   docked_bike 2020-04-26 17:45:00 2020-04-26 18:12:00   \n",
      "1  5405B80E996FF60D   docked_bike 2020-04-17 17:08:00 2020-04-17 17:17:00   \n",
      "2  5DD24A79A4E006F4   docked_bike 2020-04-01 17:54:00 2020-04-01 18:08:00   \n",
      "3  2A59BBDF5CDBA725   docked_bike 2020-04-07 12:50:00 2020-04-07 13:02:00   \n",
      "4  27AD306C119C6158   docked_bike 2020-04-18 10:22:00 2020-04-18 11:15:00   \n",
      "\n",
      "             start_station_name  start_station_id  \\\n",
      "0                  Eckhart Park              86.0   \n",
      "1     Drake Ave & Fullerton Ave             503.0   \n",
      "2          McClurg Ct & Erie St             142.0   \n",
      "3  California Ave & Division St             216.0   \n",
      "4          Rush St & Hubbard St             125.0   \n",
      "\n",
      "              end_station_name  end_station_id  start_lat  start_lng  end_lat  \\\n",
      "0  Lincoln Ave & Diversey Pkwy           152.0    41.8964   -87.6610  41.9322   \n",
      "1              Kosciuszko Park           499.0    41.9244   -87.7154  41.9306   \n",
      "2   Indiana Ave & Roosevelt Rd           255.0    41.8945   -87.6179  41.8679   \n",
      "3       Wood St & Augusta Blvd           657.0    41.9030   -87.6975  41.8992   \n",
      "4   Sheridan Rd & Lawrence Ave           323.0    41.8902   -87.6262  41.9695   \n",
      "\n",
      "   end_lng member_casual  ride_duration  day_of_week weekday_name  month  \\\n",
      "0 -87.6586        member           27.0            6       Sunday      4   \n",
      "1 -87.7238        member            9.0            4       Friday      4   \n",
      "2 -87.6230        member           14.0            2    Wednesday      4   \n",
      "3 -87.6722        member           12.0            1      Tuesday      4   \n",
      "4 -87.6547        casual           53.0            5     Saturday      4   \n",
      "\n",
      "  month_name  \n",
      "0      April  \n",
      "1      April  \n",
      "2      April  \n",
      "3      April  \n",
      "4      April  \n"
     ]
    },
    {
     "name": "stderr",
     "output_type": "stream",
     "text": [
      "C:\\Users\\JAMMITHRI\\AppData\\Local\\Temp\\ipykernel_30004\\2621240599.py:1: SettingWithCopyWarning: \n",
      "A value is trying to be set on a copy of a slice from a DataFrame.\n",
      "Try using .loc[row_indexer,col_indexer] = value instead\n",
      "\n",
      "See the caveats in the documentation: https://pandas.pydata.org/pandas-docs/stable/user_guide/indexing.html#returning-a-view-versus-a-copy\n",
      "  cleaned_data['ride_duration'] = cleaned_data['ride_duration'].abs()\n"
     ]
    }
   ],
   "source": [
    "cleaned_data['ride_duration'] = cleaned_data['ride_duration'].abs()\n",
    "print(cleaned_data.head())"
   ]
  },
  {
   "cell_type": "code",
   "execution_count": 27,
   "id": "6d8e6b09-14f8-4c12-aaa7-3735fe289aed",
   "metadata": {},
   "outputs": [
    {
     "name": "stdout",
     "output_type": "stream",
     "text": [
      "Data for each weekday - Total ride time (minutes) and count of rides:\n",
      "              ride_duration  ride_id\n",
      "weekday_name                        \n",
      "Friday            5369918.0   161333\n",
      "Monday            3996227.0   118892\n",
      "Saturday          7846960.0   202550\n",
      "Sunday            6854362.0   164903\n",
      "Thursday          4875886.0   146080\n",
      "Tuesday           3805483.0   123434\n",
      "Wednesday         3997289.0   129683\n"
     ]
    }
   ],
   "source": [
    "weekday_data = cleaned_data.groupby('weekday_name').agg({'ride_duration': 'sum', 'ride_id': 'count'})\n",
    "\n",
    "print(\"Data for each weekday - Total ride time (minutes) and count of rides:\")\n",
    "print(weekday_data)"
   ]
  },
  {
   "cell_type": "code",
   "execution_count": 28,
   "id": "c11ad148-1aaa-4215-bcd0-f0ead4c2eab6",
   "metadata": {},
   "outputs": [
    {
     "data": {
      "image/png": "[encoded data removed]",
      "text/plain": [
       "<Figure size 1000x500 with 2 Axes>"
      ]
     },
     "metadata": {},
     "output_type": "display_data"
    }
   ],
   "source": [
    "weekday_order = ['Monday', 'Tuesday', 'Wednesday', 'Thursday', 'Friday', 'Saturday', 'Sunday']\n",
    "\n",
    "#Plot Ride Duration\n",
    "plt.figure(figsize=(10, 5))\n",
    "plt.subplot(1, 2, 1)\n",
    "sns.barplot(x=weekday_data.index, y=weekday_data['ride_duration'], order=weekday_order, color='skyblue')\n",
    "plt.title('Total Ride Duration by Weekday')\n",
    "plt.xlabel('Weekday')\n",
    "plt.ylabel('Total Ride Duration (minutes)')\n",
    "plt.xticks(rotation=45)\n",
    "\n",
    "#Plot Ride Count\n",
    "plt.subplot(1, 2, 2)\n",
    "sns.barplot(x=weekday_data.index, y=weekday_data['ride_id'], order=weekday_order, color='salmon')\n",
    "plt.title('Ride Count by Weekday')\n",
    "plt.xlabel('Weekday')\n",
    "plt.ylabel('Ride count')\n",
    "plt.xticks(rotation=45)\n",
    "\n",
    "#Adjust Layout\n",
    "plt.tight_layout()\n",
    "\n",
    "#show the plots\n",
    "plt.show()"
   ]
  },
  {
   "cell_type": "code",
   "execution_count": 29,
   "id": "ba9c93aa-6d79-4e96-b557-b978af82af0b",
   "metadata": {},
   "outputs": [
    {
     "name": "stdout",
     "output_type": "stream",
     "text": [
      "Data for each month - Total ride time (minutes) and count of rides:\n",
      "            ride_duration  ride_id\n",
      "month_name                        \n",
      "April           3013294.0    84677\n",
      "July           15742833.0   419708\n",
      "June           11387278.0   342537\n",
      "May             6602720.0   199953\n"
     ]
    }
   ],
   "source": [
    "month_data = cleaned_data.groupby('month_name').agg({'ride_duration': 'sum', 'ride_id': 'count'})\n",
    "\n",
    "#Display the data\n",
    "print(\"Data for each month - Total ride time (minutes) and count of rides:\")\n",
    "print(month_data)"
   ]
  },
  {
   "cell_type": "code",
   "execution_count": 31,
   "id": "e8d31891-2db5-4231-b199-c522a954335b",
   "metadata": {},
   "outputs": [
    {
     "data": {
      "image/png": "[encoded data removed]",
      "text/plain": [
       "<Figure size 1000x500 with 2 Axes>"
      ]
     },
     "metadata": {},
     "output_type": "display_data"
    }
   ],
   "source": [
    "#Plot ride duration\n",
    "plt.figure(figsize=(10, 5))\n",
    "plt.subplot(1, 2, 1)\n",
    "plt.bar(month_data.index, month_data['ride_duration'], color='skyblue')\n",
    "plt.title('Total ride duration by month')\n",
    "plt.xlabel('Month')\n",
    "plt.ylabel('Total Ride Duration (minutes)')\n",
    "plt.xticks(rotation=45, ha='right')\n",
    "\n",
    "#plot ride count\n",
    "plt.subplot(1, 2, 2)\n",
    "plt.bar(month_data.index, month_data['ride_id'], color='salmon')\n",
    "plt.title('Ride Count by Month')\n",
    "plt.xlabel('Month')\n",
    "plt.ylabel('Ride Count')\n",
    "plt.xticks(rotation=45, ha='right')\n",
    "\n",
    "#Adjust Layout\n",
    "plt.tight_layout()\n",
    "\n",
    "#Show the plots\n",
    "plt.show()"
   ]
  },
  {
   "cell_type": "code",
   "execution_count": 33,
   "id": "0c1ac4e6-4f0e-4ed1-b5d8-46067a73196a",
   "metadata": {},
   "outputs": [],
   "source": [
    "#Group data by start station name and calculate sum of ride time and count of rates\n",
    "station_duration = cleaned_data.groupby('start_station_name')['ride_duration'].sum().reset_index()\n",
    "station_count = cleaned_data.groupby('start_station_name')['ride_id'].count().reset_index()\n",
    "\n",
    "#Sort dataframes in chronological order from highest to lowest\n",
    "station_duration_sorted = station_duration.sort_values(by='ride_duration', ascending=False)\n",
    "station_count_sorted = station_count.sort_values(by='ride_id', ascending=False)"
   ]
  },
  {
   "cell_type": "code",
   "execution_count": 34,
   "id": "9ebec866-63b0-4988-8ac3-f6bdab52af21",
   "metadata": {},
   "outputs": [
    {
     "name": "stdout",
     "output_type": "stream",
     "text": [
      "               start_station_name  ride_duration\n",
      "548       Streeter Dr & Grand Ave       564400.0\n",
      "284    Indiana Ave & Roosevelt Rd       457138.0\n",
      "403               Millennium Park       446119.0\n",
      "57            Buckingham Fountain       383386.0\n",
      "327     Lake Shore Dr & Monroe St       377259.0\n",
      "395        Michigan Ave & Lake St       372929.0\n",
      "328    Lake Shore Dr & North Blvd       353362.0\n",
      "399  Michigan Ave & Washington St       332309.0\n",
      "228      Fairbanks Ct & Grand Ave       332223.0\n",
      "569        Wabash Ave & Grand Ave       329143.0\n",
      "534        State St & Randolph St       311594.0\n",
      "570     Wabash Ave & Roosevelt Rd       295452.0\n",
      "571        Wabash Ave & Wacker Pl       292257.0\n",
      "397         Michigan Ave & Oak St       274419.0\n",
      "124             Clark St & Elm St       254941.0\n",
      "153     Columbus Dr & Randolph St       253701.0\n",
      "131        Clark St & Lincoln Ave       237870.0\n",
      "392         Michigan Ave & 8th St       233659.0\n",
      "550           Theater on the Lake       233260.0\n",
      "531          State St & Kinzie St       232225.0\n"
     ]
    }
   ],
   "source": [
    "print(station_duration_sorted.head(20))"
   ]
  },
  {
   "cell_type": "code",
   "execution_count": 35,
   "id": "87eb0e19-d7bb-41b0-a810-1f00904ddbf0",
   "metadata": {},
   "outputs": [
    {
     "name": "stdout",
     "output_type": "stream",
     "text": [
      "                 start_station_name  ride_id\n",
      "548         Streeter Dr & Grand Ave    11317\n",
      "124               Clark St & Elm St    10052\n",
      "328      Lake Shore Dr & North Blvd     9120\n",
      "284      Indiana Ave & Roosevelt Rd     8490\n",
      "403                 Millennium Park     7668\n",
      "327       Lake Shore Dr & Monroe St     7646\n",
      "131          Clark St & Lincoln Ave     7499\n",
      "580           Wells St & Concord Ln     7441\n",
      "118         Clark St & Armitage Ave     7433\n",
      "47             Broadway & Barry Ave     7428\n",
      "192           Dearborn St & Erie St     7325\n",
      "330  Lake Shore Dr & Wellington Ave     7216\n",
      "550             Theater on the Lake     7144\n",
      "343       Larrabee St & Webster Ave     7102\n",
      "570       Wabash Ave & Roosevelt Rd     6966\n",
      "569          Wabash Ave & Grand Ave     6926\n",
      "581               Wells St & Elm St     6906\n",
      "326   Lake Shore Dr & Diversey Pkwy     6730\n",
      "153       Columbus Dr & Randolph St     6722\n",
      "584             Wells St & Huron St     6537\n"
     ]
    }
   ],
   "source": [
    "print(station_count_sorted.head(20))"
   ]
  },
  {
   "cell_type": "code",
   "execution_count": null,
   "id": "7b99aff1-ebcb-4aba-9e42-c6187dea4415",
   "metadata": {},
   "outputs": [],
   "source": []
  }
 ],
 "metadata": {
  "kernelspec": {
   "display_name": "Python 3 (ipykernel)",
   "language": "python",
   "name": "python3"
  },
  "language_info": {
   "codemirror_mode": {
    "name": "ipython",
    "version": 3
   },
   "file_extension": ".py",
   "mimetype": "text/x-python",
   "name": "python",
   "nbconvert_exporter": "python",
   "pygments_lexer": "ipython3",
   "version": "3.11.7"
  }
 },
 "nbformat": 4,
 "nbformat_minor": 5
}
